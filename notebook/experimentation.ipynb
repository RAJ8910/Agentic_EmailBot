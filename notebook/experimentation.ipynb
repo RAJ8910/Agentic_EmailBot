{
 "cells": [
  {
   "cell_type": "code",
   "execution_count": 1,
   "id": "c43287a7",
   "metadata": {},
   "outputs": [],
   "source": [
    "from utils.db_connector import DBConnector\n",
    "from typing import List"
   ]
  },
  {
   "cell_type": "code",
   "execution_count": 2,
   "id": "e67933dd",
   "metadata": {},
   "outputs": [],
   "source": [
    "dbconnector = DBConnector()"
   ]
  },
  {
   "cell_type": "code",
   "execution_count": 3,
   "id": "c045adf0",
   "metadata": {},
   "outputs": [
    {
     "name": "stdout",
     "output_type": "stream",
     "text": [
      "Connection to the database established successfully.\n"
     ]
    },
    {
     "data": {
      "text/plain": [
       "<connection object at 0x000001BDBF954D00; dsn: 'user=postgres password=xxx dbname=insurancedb host=4.213.75.90 port=5432', closed: 0>"
      ]
     },
     "execution_count": 3,
     "metadata": {},
     "output_type": "execute_result"
    }
   ],
   "source": [
    "dbconnector.connect()"
   ]
  },
  {
   "cell_type": "code",
   "execution_count": null,
   "id": "a624a9e4",
   "metadata": {},
   "outputs": [],
   "source": [
    "select_query = \"SELECT * from policies;\"\n",
    "results = dbconnector.execute_query(select_query, fetch_results=True)"
   ]
  },
  {
   "cell_type": "code",
   "execution_count": 5,
   "id": "5edac3ac",
   "metadata": {},
   "outputs": [],
   "source": [
    "from utils.models import Customer,Nominee,Policy,Endorsement,Claim,ConversationHistory,convert_db_row_to_model"
   ]
  },
  {
   "cell_type": "code",
   "execution_count": 6,
   "id": "23739477",
   "metadata": {},
   "outputs": [],
   "source": [
    "policy_columns = [\n",
    "        'policy_id', 'customer_id', 'policy_type', 'insurer_name',\n",
    "        'start_date', 'end_date', 'sum_insured', 'premium_amount', 'policy_status'\n",
    "    ]\n",
    "customers = []\n",
    "for row in results:\n",
    "    customer = convert_db_row_to_model(row, Policy)\n",
    "    customers.append(customer)"
   ]
  },
  {
   "cell_type": "code",
   "execution_count": 7,
   "id": "5669ac5e",
   "metadata": {},
   "outputs": [
    {
     "name": "stdout",
     "output_type": "stream",
     "text": [
      "('POL2023001', 1, 'Health', 'Star Health Insurance', datetime.date(2023, 1, 15), datetime.date(2024, 1, 14), Decimal('500000.00'), Decimal('15000.00'), 'active', datetime.datetime(2025, 7, 2, 11, 26, 4, 741164, tzinfo=datetime.timezone.utc))\n",
      "('POL2023002', 2, 'Car', 'ICICI Lombard', datetime.date(2023, 3, 20), datetime.date(2024, 3, 19), Decimal('750000.00'), Decimal('22000.00'), 'active', datetime.datetime(2025, 7, 2, 11, 26, 4, 741164, tzinfo=datetime.timezone.utc))\n",
      "('POL2022003', 3, 'Life', 'LIC', datetime.date(2022, 6, 1), datetime.date(2042, 6, 1), Decimal('10000000.00'), Decimal('50000.00'), 'active', datetime.datetime(2025, 7, 2, 11, 26, 4, 741164, tzinfo=datetime.timezone.utc))\n",
      "('POL2023004', 4, 'Fire', 'HDFC ERGO', datetime.date(2023, 5, 10), datetime.date(2024, 5, 9), Decimal('2500000.00'), Decimal('8000.00'), 'expired', datetime.datetime(2025, 7, 2, 11, 26, 4, 741164, tzinfo=datetime.timezone.utc))\n",
      "('POL2023005', 1, 'Car', 'Go Digit', datetime.date(2023, 8, 1), datetime.date(2024, 7, 31), Decimal('600000.00'), Decimal('18000.00'), 'active', datetime.datetime(2025, 7, 2, 11, 26, 4, 741164, tzinfo=datetime.timezone.utc))\n",
      "('POL2021006', 5, 'Health', 'Care Health Insurance', datetime.date(2021, 9, 1), datetime.date(2022, 8, 31), Decimal('300000.00'), Decimal('12000.00'), 'cancelled', datetime.datetime(2025, 7, 2, 11, 26, 4, 741164, tzinfo=datetime.timezone.utc))\n"
     ]
    }
   ],
   "source": [
    "for rows in results:\n",
    "    print(rows)"
   ]
  },
  {
   "cell_type": "code",
   "execution_count": 8,
   "id": "3f8501c0",
   "metadata": {},
   "outputs": [
    {
     "data": {
      "text/plain": [
       "[Policy(policy_id='POL2023001', customer_id=1, policy_type='Health', insurer_name='Star Health Insurance', start_date='2023-01-15', end_date='2024-01-14', sum_insured=500000.0, premium_amount=15000.0, policy_status='active'),\n",
       " Policy(policy_id='POL2023002', customer_id=2, policy_type='Car', insurer_name='ICICI Lombard', start_date='2023-03-20', end_date='2024-03-19', sum_insured=750000.0, premium_amount=22000.0, policy_status='active'),\n",
       " Policy(policy_id='POL2022003', customer_id=3, policy_type='Life', insurer_name='LIC', start_date='2022-06-01', end_date='2042-06-01', sum_insured=10000000.0, premium_amount=50000.0, policy_status='active'),\n",
       " Policy(policy_id='POL2023004', customer_id=4, policy_type='Fire', insurer_name='HDFC ERGO', start_date='2023-05-10', end_date='2024-05-09', sum_insured=2500000.0, premium_amount=8000.0, policy_status='expired'),\n",
       " Policy(policy_id='POL2023005', customer_id=1, policy_type='Car', insurer_name='Go Digit', start_date='2023-08-01', end_date='2024-07-31', sum_insured=600000.0, premium_amount=18000.0, policy_status='active'),\n",
       " Policy(policy_id='POL2021006', customer_id=5, policy_type='Health', insurer_name='Care Health Insurance', start_date='2021-09-01', end_date='2022-08-31', sum_insured=300000.0, premium_amount=12000.0, policy_status='cancelled')]"
      ]
     },
     "execution_count": 8,
     "metadata": {},
     "output_type": "execute_result"
    }
   ],
   "source": [
    "customers"
   ]
  },
  {
   "cell_type": "code",
   "execution_count": null,
   "id": "44de14e6",
   "metadata": {},
   "outputs": [],
   "source": []
  }
 ],
 "metadata": {
  "kernelspec": {
   "display_name": "Agentic_EmailBot",
   "language": "python",
   "name": "python3"
  },
  "language_info": {
   "codemirror_mode": {
    "name": "ipython",
    "version": 3
   },
   "file_extension": ".py",
   "mimetype": "text/x-python",
   "name": "python",
   "nbconvert_exporter": "python",
   "pygments_lexer": "ipython3",
   "version": "3.12.7"
  }
 },
 "nbformat": 4,
 "nbformat_minor": 5
}
